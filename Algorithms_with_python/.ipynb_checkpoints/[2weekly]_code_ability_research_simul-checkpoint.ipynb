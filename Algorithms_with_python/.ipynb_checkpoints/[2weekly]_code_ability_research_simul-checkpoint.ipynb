{
 "cells": [
  {
   "cell_type": "code",
   "execution_count": null,
   "id": "cd030f54",
   "metadata": {},
   "outputs": [],
   "source": [
    "# import sys\n",
    "# sys.stdin = open(\"input.txt\",\"rt\")\n",
    "\n",
    "n , k =map(int, input().split())\n",
    "cnt = 0\n",
    "for i in range(1,n+1):\n",
    "    if n%i ==0:\n",
    "        cnt+=1\n",
    "    if cnt == k:\n",
    "        print(i)\n",
    "        break\n",
    "else:\n",
    "    print(-1)\n",
    "    "
   ]
  },
  {
   "cell_type": "markdown",
   "id": "e1a9b231",
   "metadata": {},
   "source": [
    "### K번째 수"
   ]
  },
  {
   "cell_type": "code",
   "execution_count": null,
   "id": "2de6fb7f",
   "metadata": {},
   "outputs": [],
   "source": [
    "# import sys\n",
    "# sys.stdin = open(\"./input2.txt\",\"rt\")\n",
    "T = int(input())\n",
    "for t in range(T):\n",
    "    n,s,e, k=map(int, input().split())\n",
    "    a = list(map(int, input().split()))\n",
    "    #print(a[1:5])\n",
    "    #print(a)\n",
    "    a = a[s-1:e]\n",
    "    a.sort()\n",
    "    print(\"#%d %d\" %(t, a[k-1]))\n",
    "    "
   ]
  },
  {
   "cell_type": "markdown",
   "id": "67bb800c",
   "metadata": {},
   "source": [
    "### K번째 큰 수"
   ]
  },
  {
   "cell_type": "code",
   "execution_count": null,
   "id": "9fc4be55",
   "metadata": {},
   "outputs": [],
   "source": [
    "# import sys\n",
    "# sys.stdin = open(\"input3.txt\",\"rt\")\n",
    "n, k = map(int, input().split())\n",
    "a = list(map(int, input().split()))\n",
    "res = set() #set: 중복 제거, set 자료구조는 sort가 없음\n",
    "for i in range(n):\n",
    "    for j in range(i+1, n):\n",
    "        for m in range(j+1, n):\n",
    "            res.add(a[i]+a[j]+a[m])\n",
    "res = list(res)\n",
    "res.sort(reverse = True)\n",
    "print(res[k-1])"
   ]
  },
  {
   "cell_type": "markdown",
   "id": "f4084ffd",
   "metadata": {},
   "source": [
    "### 최솟값 구하기"
   ]
  },
  {
   "cell_type": "code",
   "execution_count": null,
   "id": "1e07d209",
   "metadata": {},
   "outputs": [],
   "source": [
    "arr= [5, 3, 7, 9, 2, 5, 2, 6]\n",
    "arrMin = float('inf') #inf 무한대 값\n",
    "for i in range(len(arr)):\n",
    "    #print(arr[i])\n",
    "    if arr[i]<arrMin:\n",
    "        arrMin = arr[i]\n",
    "print(arrMin)"
   ]
  },
  {
   "cell_type": "code",
   "execution_count": null,
   "id": "ce654084",
   "metadata": {},
   "outputs": [],
   "source": [
    "arr= [5, 3, 7, 9, 2, 5, 2, 6]\n",
    "arrMin = arr[0]\n",
    "for i in range(1, len(arr)):\n",
    "    #print(arr[i])\n",
    "    if arr[i]<arrMin:\n",
    "        arrMin = arr[i]\n",
    "print(arrMin)"
   ]
  },
  {
   "cell_type": "code",
   "execution_count": null,
   "id": "69134684",
   "metadata": {},
   "outputs": [],
   "source": [
    "arr= [5, 3, 7, 9, 2, 5, 2, 6]\n",
    "arrMin = float('inf')\n",
    "for x in arr:\n",
    "    if x<arrMin:\n",
    "        arrMin = x\n",
    "print(arrMin)"
   ]
  },
  {
   "cell_type": "markdown",
   "id": "95060dcc",
   "metadata": {},
   "source": [
    "### 대표값"
   ]
  },
  {
   "cell_type": "code",
   "execution_count": null,
   "id": "84e1020d",
   "metadata": {},
   "outputs": [],
   "source": [
    "#import sys\n",
    "#sys.stdin=open(\"input.txt\",\"r\")\n",
    "#n= int(input())\n",
    "a = list(map(int, input().split()))\n",
    "\n",
    "ave = round(sum(a)/n)\n",
    "min = 291203988\n",
    "for idx, x in enumerate(a):\n",
    "    tmp = abs(x-ave)\n",
    "    if tmp <min:\n",
    "        min = tmp\n",
    "        score = x\n",
    "        res = idx+1\n",
    "        \n",
    "    elif tmp == min:\n",
    "        if x > score:\n",
    "            score = x\n",
    "            res = idx+1\n",
    "print(ave, res)\n"
   ]
  },
  {
   "cell_type": "code",
   "execution_count": null,
   "id": "7b6031e6",
   "metadata": {},
   "outputs": [],
   "source": [
    "#파이썬은 \n",
    "#round는 round_half_even 방식을 택한다 \n",
    "#짝수쪽으로 반올림 한다.\n",
    "\n",
    "a = 4.500\n",
    "print(round(a))\n",
    "\n",
    "a = 4.5111\n",
    "print(round(a))\n",
    "\n",
    "a = 5.5000\n",
    "print(round(a))\n",
    "\n",
    "a = 66.5\n",
    "a = a+0.5\n",
    "a = int(a)\n",
    "print(round(a))\n",
    "\n",
    "a = 66.6\n",
    "a = a+0.5\n",
    "a = int(a)\n",
    "print(round(a))\n",
    "\n",
    "a = 67.5\n",
    "a = a+0.5\n",
    "a = int(a)\n",
    "print(round(a))"
   ]
  },
  {
   "cell_type": "markdown",
   "id": "0ecbffbd",
   "metadata": {},
   "source": [
    "### 정다면체"
   ]
  },
  {
   "cell_type": "code",
   "execution_count": null,
   "id": "e57d05e3",
   "metadata": {},
   "outputs": [],
   "source": [
    "# import sys\n",
    "# sys.stdin=open(\"input.txt\",\"r\")\n",
    "n,m = map(int, input().split())\n",
    "\n",
    "cnt = [0]*(n+m+3)\n",
    "max = -2147000000\n",
    "for i in range(1,n+1):\n",
    "    for j in range(1,m+1):\n",
    "        cnt[i+j]+=1\n",
    "\n",
    "for i in range(n+m+1):\n",
    "    if cnt[i]>max:\n",
    "        max=cnt[i]\n",
    "for i in range(n+m+1):\n",
    "    if cnt[i] == max:\n",
    "        print(i, end=' ')"
   ]
  },
  {
   "cell_type": "markdown",
   "id": "51ce3e3c",
   "metadata": {},
   "source": [
    "### 자릿수의 합"
   ]
  },
  {
   "cell_type": "code",
   "execution_count": null,
   "id": "e5c71fb1",
   "metadata": {},
   "outputs": [],
   "source": [
    "n = int(input())\n",
    "a = list(map(int, input().split()))\n",
    "\n",
    "def digit_sum(x):\n",
    "    sum = 0\n",
    "    while x>0:\n",
    "        sum+=x%10\n",
    "        x=x//10\n",
    "    return sum\n",
    "\n",
    "max=-2147000000\n",
    "for x in a:\n",
    "    tod = digit_sum(x)\n",
    "    if tod >max:\n",
    "        max=tod\n",
    "        res = x\n",
    "print(res)"
   ]
  },
  {
   "cell_type": "code",
   "execution_count": null,
   "id": "b5ece825",
   "metadata": {},
   "outputs": [],
   "source": [
    "a = list(map(int, input().split()))\n",
    "def digit_sum(x):\n",
    "    sum = 0\n",
    "    for i in str(x):\n",
    "        sum+= int(i)\n",
    "    return sum\n",
    "#         print(i, end=' ')\n",
    "#     print()\n",
    "\n",
    "max=-2147000000 #4바이트 최대값임 2^31\n",
    "\n",
    "for x in a:\n",
    "    tod = digit_sum(x)\n",
    "    if tod >max:\n",
    "        max=tod\n",
    "        res = x\n",
    "print(res)"
   ]
  },
  {
   "cell_type": "markdown",
   "id": "87a7e884",
   "metadata": {},
   "source": [
    "### 소수(에라토스테네스 체)"
   ]
  },
  {
   "cell_type": "code",
   "execution_count": null,
   "id": "cb1d2a45",
   "metadata": {},
   "outputs": [],
   "source": [
    "n = int(input())\n",
    "ch=[0]*(n+1)\n",
    "\n",
    "cnt=0\n",
    "for i in range(2, n+1):\n",
    "    if ch[i]==0:\n",
    "        cnt+=1\n",
    "        for j in range(i, n+1, i):\n",
    "            ch[j]=1\n",
    "\n",
    "print(cnt)"
   ]
  },
  {
   "cell_type": "markdown",
   "id": "6d4adaac",
   "metadata": {},
   "source": [
    "### 뒤집은 소수"
   ]
  },
  {
   "cell_type": "code",
   "execution_count": null,
   "id": "d7827433",
   "metadata": {},
   "outputs": [],
   "source": [
    "def reverse(x):\n",
    "    res = 0\n",
    "    while x>0:\n",
    "        t=x%10\n",
    "        res = res*10+t\n",
    "        x=x//10\n",
    "    return res\n",
    "\n",
    "\n",
    "def isPrime(x):\n",
    "    if x==1:\n",
    "        return False\n",
    "    for i in range(2,x//2+1):\n",
    "        if x%i==0:\n",
    "            return False\n",
    "    else:\n",
    "        return True\n",
    "    \n",
    "n = int(input())\n",
    "a = list(map(int, input().split()))\n",
    "\n",
    "\n",
    "for x in a:\n",
    "    tmp = reverse(x)\n",
    "    if isPrime(tmp):\n",
    "        print(tmp, end=' ')            \n",
    "        "
   ]
  },
  {
   "cell_type": "markdown",
   "id": "49710d99",
   "metadata": {},
   "source": [
    "### 주사위 게임"
   ]
  },
  {
   "cell_type": "code",
   "execution_count": null,
   "id": "a190de65",
   "metadata": {},
   "outputs": [],
   "source": [
    "n = int(input())\n",
    "res = 0\n",
    "for i in range(n):\n",
    "    tmp = input().split()\n",
    "    #print(tmp)\n",
    "    tmp.sort()\n",
    "    a, b, c = map(int, tmp)\n",
    "    if a==b and b==c:\n",
    "        money = 10000+a*1000\n",
    "        \n",
    "    elif a==b or a==c:  # 한 경우를 변수로 잡아서 계산해야함\n",
    "        money = 1000+(a*100)\n",
    "        \n",
    "    elif b==c:\n",
    "        money = 1000+(b*100)\n",
    "    \n",
    "    else:\n",
    "        money = c*100\n",
    "    if money >res:\n",
    "        res = money\n",
    "print(res)"
   ]
  },
  {
   "cell_type": "markdown",
   "id": "db6df47d",
   "metadata": {},
   "source": [
    "### 점수계산"
   ]
  },
  {
   "cell_type": "code",
   "execution_count": null,
   "id": "4477619b",
   "metadata": {},
   "outputs": [],
   "source": [
    "#10\n",
    "# 1 0 1 1 1 0 0 1 1 0\n",
    "\n",
    "n = int(input())\n",
    "a = list(map(int, input().split()))\n",
    "\n",
    "sum = 0 \n",
    "cnt = 0\n",
    "\n",
    "\n",
    "for x in a:\n",
    "    if x==1:\n",
    "        cnt+=1\n",
    "        sum+=cnt\n",
    "    else:\n",
    "        cnt=0\n",
    "        \n",
    "print(sum)\n"
   ]
  },
  {
   "cell_type": "markdown",
   "id": "73d7de8b",
   "metadata": {},
   "source": [
    "### 회문 문자열 검사"
   ]
  },
  {
   "cell_type": "code",
   "execution_count": null,
   "id": "75b1fdd5",
   "metadata": {},
   "outputs": [],
   "source": [
    "# 5\n",
    "# level moon abcba soon gooG\n",
    "\n",
    "n = int(input())\n",
    "for i in range(n):\n",
    "    s = input()\n",
    "    s = s.upper() #대소문자 구분을 안하기 때문에 대문자로 진행\n",
    "    size = len(s)\n",
    "    #print(s[-2])\n",
    "    for j in range(size//2):\n",
    "        if s[j]!=s[-1-j]:\n",
    "            print(\"#%d No\" %(i+1))\n",
    "            break\n",
    "    else:\n",
    "        print(\"#%d Yes\" %(i+1))\n",
    "        "
   ]
  },
  {
   "cell_type": "code",
   "execution_count": null,
   "id": "ac0f9b9c",
   "metadata": {},
   "outputs": [],
   "source": [
    "n = int(input())\n",
    "for i in range(n):\n",
    "    s=input()\n",
    "    s=s.upper()\n",
    "    #print(s[::-1])\n",
    "    if s==s[::-1]:\n",
    "        print(\"#%d Yes\" %(i+1))\n",
    "    else:\n",
    "        print(\"#%d No\" %(i+1))"
   ]
  },
  {
   "cell_type": "markdown",
   "id": "104bcfd0",
   "metadata": {},
   "source": [
    "### 숫자만 추출"
   ]
  },
  {
   "cell_type": "code",
   "execution_count": null,
   "id": "70c35f59",
   "metadata": {},
   "outputs": [],
   "source": [
    "#g0en2Ts8eSoft\n",
    "\n",
    "\n",
    "s = input()\n",
    "res=0\n",
    "for x in s:\n",
    "    #print(x, end=' ') \n",
    "    if x.isdecimal(): #isdecimal: 0~9숫자 찾아움, isdigit: 숫자형태 찾아줌\n",
    "        res = res*10+int(x)\n",
    "print(res)\n",
    "\n",
    "cnt = 0\n",
    "for i in range(1, res+1):\n",
    "    if res%i ==0:\n",
    "        cnt+=1\n",
    "        \n",
    "print(cnt)"
   ]
  },
  {
   "cell_type": "markdown",
   "id": "7497c887",
   "metadata": {},
   "source": [
    "### 카드역배치"
   ]
  },
  {
   "cell_type": "code",
   "execution_count": null,
   "id": "4650e859",
   "metadata": {},
   "outputs": [],
   "source": [
    "'''\n",
    "5 10\n",
    "9 13\n",
    "1 2\n",
    "3 4\n",
    "5 6\n",
    "1 2\n",
    "3 4\n",
    "5 6\n",
    "1 20\n",
    "1 20\n",
    "'''\n",
    "\n",
    "# a, b = map(int, input().split())\n",
    "# print(a,b)\n",
    "\n",
    "# a,b = b,a\n",
    "# print(a,b)\n",
    "\n",
    "\n",
    "a = list(range(21))\n",
    "#print(a)\n",
    "for _ in range(10): #_ 하면 변수가 없는 것\n",
    "    s, e = map(int, input().split())\n",
    "    for i in range((e-s+1)//2):\n",
    "        a[s+i], a[e-i] = a[e-i], a[s+i]\n",
    "\n",
    "a.pop(0)\n",
    "for x in a:\n",
    "    print(x, end = ' ')\n",
    "    "
   ]
  },
  {
   "cell_type": "markdown",
   "id": "df4c8be2",
   "metadata": {},
   "source": [
    "### 두 리스트 합치기"
   ]
  },
  {
   "cell_type": "code",
   "execution_count": null,
   "id": "db1cefd7",
   "metadata": {},
   "outputs": [],
   "source": [
    "'''\n",
    "3\n",
    "135\n",
    "5\n",
    "23679\n",
    "'''\n",
    "\n",
    "n=int(input())\n",
    "a=list(map(int, input().split()))\n",
    "m=int(input())\n",
    "b=list(map(int, input().split()))\n",
    "\n",
    "p1 = p2 =0\n",
    "c= []\n",
    "\n",
    "while p1<n and p2<m:\n",
    "    if a[p1]<=a[p2]:\n",
    "        c.append(a[p1])\n",
    "        p1+=1\n",
    "    else:\n",
    "        c.append(b[p2])\n",
    "        p2+=1\n",
    "        \n",
    "if p1<n:\n",
    "    c = c+a[p1:]\n",
    "if p2<m:\n",
    "    c = c+b[p2:]\n",
    "print(c)"
   ]
  },
  {
   "cell_type": "markdown",
   "id": "2b469ceb",
   "metadata": {},
   "source": [
    "### 수들의 합"
   ]
  },
  {
   "cell_type": "code",
   "execution_count": null,
   "id": "176633f3",
   "metadata": {},
   "outputs": [],
   "source": [
    "'''\n",
    "8 3\n",
    "1 2 1 3 1 1 1 2\n",
    "'''\n",
    "n,m = map(int, input().split())\n",
    "a = list(map(int, input().split()))\n",
    "lt=0\n",
    "rt=1\n",
    "tot=a[0]\n",
    "cnt=0\n",
    "\n",
    "while True:\n",
    "    if tot<m:\n",
    "        if rt<n:\n",
    "            tot += a[rt]\n",
    "            rt+= 1\n",
    "        else:\n",
    "            break\n",
    "    elif tot == m:\n",
    "        cnt+=1\n",
    "        tot-=a[lt]\n",
    "        lt+=1\n",
    "    else:\n",
    "        tot-=a[lt]\n",
    "        lt+=1\n",
    "        \n",
    "print(cnt)\n"
   ]
  },
  {
   "cell_type": "markdown",
   "id": "c5acc902",
   "metadata": {},
   "source": [
    "### 격자판 최대합"
   ]
  },
  {
   "cell_type": "code",
   "execution_count": null,
   "id": "6ab91c28",
   "metadata": {},
   "outputs": [],
   "source": [
    "'''\n",
    "5\n",
    "10 13 10 12 15\n",
    "12 39 30 23 11\n",
    "11 25 50 53 15\n",
    "19 27 29 37 27\n",
    "19 13 30 13 19\n",
    "\n",
    "'''\n",
    "\n",
    "n = int(input())\n",
    "a = [list(map(int, input().split())) for _ in range(n)]\n",
    "\n",
    "largest = -2147000000\n",
    "for i in range(n):\n",
    "    sum1 = sum2 = 0\n",
    "    for j in range(n):\n",
    "        sum1+=a[i][j]\n",
    "        sum2+=a[j][i]\n",
    "    if sum1> largest:\n",
    "        largest = sum1\n",
    "    if sum2> largest:\n",
    "        largest = sum2\n",
    "\n",
    "sum1 = sum2 = 0\n",
    "for i in range(n):\n",
    "    sum1+=a[i][i]\n",
    "    sum2+=a[i][n-i-1]\n",
    "    \n",
    "if sum1> largest:\n",
    "    largest=sum1\n",
    "\n",
    "if sum2> largest:\n",
    "    largest=sum2\n",
    "    \n",
    "print(largest)\n",
    "    \n",
    "        "
   ]
  },
  {
   "cell_type": "markdown",
   "id": "c86d4f46",
   "metadata": {},
   "source": [
    "### 사과나무(다이아몬드)"
   ]
  },
  {
   "cell_type": "code",
   "execution_count": null,
   "id": "aae4b5fd",
   "metadata": {},
   "outputs": [],
   "source": [
    "'''\n",
    "5\n",
    "10 13 10 12 15\n",
    "12 39 30 23 11\n",
    "11 25 50 53 15\n",
    "19 27 29 37 27\n",
    "19 13 30 13 19\n",
    "\n",
    "'''\n",
    "n = int(input())\n",
    "a = [list(map(int, input().split())) for _ in range(n)]\n",
    "res = 0\n",
    "\n",
    "s=e=n//2\n",
    "\n",
    "for i in range(n):\n",
    "    for j in range(s, e+1):\n",
    "        res+=a[i][j]\n",
    "        \n",
    "    if i<n//2:\n",
    "        s-=1\n",
    "        e+=1\n",
    "    else: \n",
    "        s+=1\n",
    "        e-=1\n",
    "        \n",
    "print(res)"
   ]
  },
  {
   "cell_type": "markdown",
   "id": "6f163deb",
   "metadata": {},
   "source": [
    "### 곳감(모래시계)"
   ]
  },
  {
   "cell_type": "code",
   "execution_count": null,
   "id": "b94059b0",
   "metadata": {},
   "outputs": [],
   "source": [
    "'''\n",
    "5\n",
    "10 13 10 12 15\n",
    "12 39 30 23 11\n",
    "11 25 50 53 15\n",
    "19 27 29 37 27\n",
    "19 13 30 13 19\n",
    "\n",
    "'''\n",
    "'''\n",
    "3\n",
    "2 0 3\n",
    "5 1 2\n",
    "3 1 4\n",
    "'''\n",
    "\n",
    "\n",
    "n = int(input())\n",
    "a=[list(map(int, input().split())) for _ in range(n)]\n",
    "m=int(input())\n",
    "\n",
    "for i in range(m):\n",
    "    h, t, k=map(int,input().split())\n",
    "    if t==0:\n",
    "        for _ in range(k):\n",
    "            a[h-1].append(a[h-1].pop(0))\n",
    "    else:\n",
    "        for _ in range(k):\n",
    "            a[h-1].insert(0,a[h-1].pop())\n",
    "            \n",
    "res = 0\n",
    "s = 0\n",
    "e= n-1\n",
    "for i in range(n):\n",
    "    for j in range(s, e+1):\n",
    "        res += a[i][j]\n",
    "    if i <n//2:\n",
    "        s+=1\n",
    "        e-=1\n",
    "    else:\n",
    "        s-=1\n",
    "        e+=1\n",
    "\n",
    "print(res)"
   ]
  },
  {
   "cell_type": "markdown",
   "id": "058dbb12",
   "metadata": {},
   "source": [
    "### 봉우리"
   ]
  },
  {
   "cell_type": "code",
   "execution_count": null,
   "id": "2a7b75f8",
   "metadata": {},
   "outputs": [],
   "source": [
    "'''\n",
    "5\n",
    "5 3 7 2 3\n",
    "3 7 1 6 1\n",
    "7 2 5 3 4\n",
    "4 3 6 4 1\n",
    "8 7 3 5 2\n",
    "'''\n",
    "\n",
    "dx=[-1,0,1,0]\n",
    "dy=[0,1,0,-1]\n",
    "n = int(input())\n",
    "a=[list(map(int, input().split())) for _ in range(n)]\n",
    "\n",
    "a.insert(0, [0]*n)\n",
    "a.append([0]*n)\n",
    "\n",
    "for x in a:\n",
    "    x.insert(0, 0)\n",
    "    x.append(0)\n",
    "\n",
    "cnt = 0\n",
    "for i in range(1, n+1):\n",
    "    for j in range(1, n+1):\n",
    "        if all(a[i][j]>a[i+dx[k]][j+dy[k]] for k in range(4)): # 모두 참일때 참으로 인정\n",
    "            cnt+=1\n",
    "print(cnt)"
   ]
  },
  {
   "cell_type": "markdown",
   "id": "9b9cefa5",
   "metadata": {},
   "source": [
    "### 스토쿠 검사"
   ]
  },
  {
   "cell_type": "code",
   "execution_count": null,
   "id": "828ab371",
   "metadata": {},
   "outputs": [],
   "source": [
    "'''\n",
    "1 2 3 4 5 6 7 8 9 \n",
    "2 1 4 3 6 5 8 9 7 \n",
    "3 4 1 2 7 8 9 5 6 \n",
    "4 3 2 1 8 9 6 7 5 \n",
    "5 6 7 8 9 1 2 3 4 \n",
    "6 5 8 9 1 7 3 4 2 \n",
    "7 8 9 5 2 3 4 6 1 \n",
    "8 9 6 7 4 2 5 1 3 \n",
    "9 7 5 6 3 4 1 2 8 \n",
    "\n",
    "\n",
    "'''\n",
    "\n",
    "\n",
    "def check(a):\n",
    "    for i in range(9):\n",
    "        ch1=[0]*10\n",
    "        ch2=[0]*10\n",
    "        for j in range(9):\n",
    "            ch1[a[i][j]]=1\n",
    "            ch2[a[j][i]]=1\n",
    "        if usm(ch1)!= 9 or sum(ch2)!=9:\n",
    "            return False\n",
    "    \n",
    "    for i in range(3):\n",
    "        for j in range(3):\n",
    "            ch3=[0]*10\n",
    "            for k in range(3):\n",
    "                for s in range(3):\n",
    "                    ch3[a[i*3+k][j*3+2]]=1\n",
    "            \n",
    "            if sum(ch3)!=9:\n",
    "                return False\n",
    "    return True\n",
    "    \n",
    "a = [list(map(int, input().split())) for _ in range(9)]\n",
    "if check(a):\n",
    "    print(\"Yes\")\n",
    "else:\n",
    "    print(\"No\")"
   ]
  },
  {
   "cell_type": "markdown",
   "id": "512b88fc",
   "metadata": {},
   "source": [
    "### 격자판 회문수"
   ]
  },
  {
   "cell_type": "code",
   "execution_count": 5,
   "id": "2b0c9712",
   "metadata": {},
   "outputs": [
    {
     "name": "stdout",
     "output_type": "stream",
     "text": [
      "2\n",
      "2\n",
      "2\n",
      "2\n",
      "2\n",
      "2\n",
      "2\n"
     ]
    },
    {
     "ename": "IndexError",
     "evalue": "list index out of range",
     "output_type": "error",
     "traceback": [
      "\u001b[0;31m---------------------------------------------------------------------------\u001b[0m",
      "\u001b[0;31mIndexError\u001b[0m                                Traceback (most recent call last)",
      "\u001b[0;32m/var/folders/g1/9q6hh8h945d63y9rn5k1l5yc0000gn/T/ipykernel_5777/3527528222.py\u001b[0m in \u001b[0;36m<module>\u001b[0;34m\u001b[0m\n\u001b[1;32m     11\u001b[0m             \u001b[0mcnt\u001b[0m\u001b[0;34m+=\u001b[0m\u001b[0;36m1\u001b[0m\u001b[0;34m\u001b[0m\u001b[0;34m\u001b[0m\u001b[0m\n\u001b[1;32m     12\u001b[0m         \u001b[0;32mfor\u001b[0m \u001b[0mk\u001b[0m \u001b[0;32min\u001b[0m \u001b[0mrange\u001b[0m\u001b[0;34m(\u001b[0m\u001b[0;36m2\u001b[0m\u001b[0;34m)\u001b[0m\u001b[0;34m:\u001b[0m\u001b[0;34m\u001b[0m\u001b[0;34m\u001b[0m\u001b[0m\n\u001b[0;32m---> 13\u001b[0;31m             \u001b[0;32mif\u001b[0m \u001b[0mboard\u001b[0m\u001b[0;34m[\u001b[0m\u001b[0mi\u001b[0m\u001b[0;34m+\u001b[0m\u001b[0mk\u001b[0m\u001b[0;34m]\u001b[0m\u001b[0;34m[\u001b[0m\u001b[0mj\u001b[0m\u001b[0;34m]\u001b[0m\u001b[0;34m!=\u001b[0m\u001b[0mboard\u001b[0m\u001b[0;34m[\u001b[0m\u001b[0mi\u001b[0m\u001b[0;34m+\u001b[0m\u001b[0;36m5\u001b[0m\u001b[0;34m-\u001b[0m\u001b[0mk\u001b[0m\u001b[0;34m-\u001b[0m\u001b[0;36m1\u001b[0m\u001b[0;34m]\u001b[0m\u001b[0;34m[\u001b[0m\u001b[0mj\u001b[0m\u001b[0;34m]\u001b[0m\u001b[0;34m:\u001b[0m\u001b[0;34m\u001b[0m\u001b[0;34m\u001b[0m\u001b[0m\n\u001b[0m\u001b[1;32m     14\u001b[0m                 \u001b[0;32mbreak\u001b[0m\u001b[0;34m\u001b[0m\u001b[0;34m\u001b[0m\u001b[0m\n\u001b[1;32m     15\u001b[0m         \u001b[0;32melse\u001b[0m\u001b[0;34m:\u001b[0m\u001b[0;34m\u001b[0m\u001b[0;34m\u001b[0m\u001b[0m\n",
      "\u001b[0;31mIndexError\u001b[0m: list index out of range"
     ]
    }
   ],
   "source": [
    "import sys\n",
    "sys.stdin=open(\"in1.txt\",\"r\")\n",
    "#print(a)\n",
    "board=[list(map(int, input().split())) for _ in range(7)]\n",
    "\n",
    "cnt=0\n",
    "for i in range(3):\n",
    "    for j in range(7):\n",
    "        tmp=board[j][i:i+5]\n",
    "        if tmp==tmp[::-1]:\n",
    "            cnt+=1\n",
    "        for k in range(2):\n",
    "            if board[i+k][j]!=board[i+5-k-1][j]:\n",
    "                break\n",
    "        else:\n",
    "            cnt+=1\n",
    "print(cnt)\n",
    "        "
   ]
  },
  {
   "cell_type": "code",
   "execution_count": 6,
   "id": "7d4ffd93",
   "metadata": {},
   "outputs": [
    {
     "name": "stdout",
     "output_type": "stream",
     "text": [
      "/Users/woorethane/miniforge3/envs/study/bin/python\n"
     ]
    }
   ],
   "source": []
  },
  {
   "cell_type": "code",
   "execution_count": null,
   "id": "da7059d0",
   "metadata": {},
   "outputs": [],
   "source": []
  }
 ],
 "metadata": {
  "kernelspec": {
   "display_name": "study",
   "language": "python",
   "name": "study"
  },
  "language_info": {
   "codemirror_mode": {
    "name": "ipython",
    "version": 3
   },
   "file_extension": ".py",
   "mimetype": "text/x-python",
   "name": "python",
   "nbconvert_exporter": "python",
   "pygments_lexer": "ipython3",
   "version": "3.8.11"
  }
 },
 "nbformat": 4,
 "nbformat_minor": 5
}
