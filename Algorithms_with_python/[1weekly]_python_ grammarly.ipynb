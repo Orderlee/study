{
 "cells": [
  {
   "cell_type": "markdown",
   "id": "7d9306cc",
   "metadata": {},
   "source": [
    "## **1. 변수명 정하기**\n",
    "1. 영문가숫자, _로 이루어진다.\n",
    "2. 대문자를 구분한다.\n",
    "3. 특수문자를 사용하면 안된다. (&,%등)\n",
    "4. 키워드를 사용하면 안된다. (if, for 등)"
   ]
  },
  {
   "cell_type": "code",
   "execution_count": 1,
   "id": "0f82758e",
   "metadata": {},
   "outputs": [
    {
     "name": "stdout",
     "output_type": "stream",
     "text": [
      "1 2\n",
      "3 2 1\n"
     ]
    }
   ],
   "source": [
    "a = 1\n",
    "A = 2\n",
    "print(a,A)\n",
    "\n",
    "a,b,c=3,2,1\n",
    "print(a,b,c)"
   ]
  },
  {
   "cell_type": "code",
   "execution_count": 2,
   "id": "f00b5005",
   "metadata": {},
   "outputs": [
    {
     "name": "stdout",
     "output_type": "stream",
     "text": [
      "10 20\n",
      "20 10\n"
     ]
    }
   ],
   "source": [
    "# 값 교환\n",
    "a, b =10, 20\n",
    "print(a,b)\n",
    "a,b = b,a\n",
    "print(a,b)"
   ]
  },
  {
   "cell_type": "code",
   "execution_count": 3,
   "id": "e2c8841c",
   "metadata": {},
   "outputs": [
    {
     "name": "stdout",
     "output_type": "stream",
     "text": [
      "12345\n",
      "<class 'int'>\n",
      "<class 'float'>\n",
      "<class 'str'>\n"
     ]
    }
   ],
   "source": [
    "#변수 타입\n",
    "a = 12345\n",
    "print(a)\n",
    "print(type(a))\n",
    "a=12.12345678914151515\n",
    "print(type(a))\n",
    "a='student'\n",
    "print(type(a))"
   ]
  },
  {
   "cell_type": "code",
   "execution_count": 4,
   "id": "9723fc00",
   "metadata": {},
   "outputs": [
    {
     "name": "stdout",
     "output_type": "stream",
     "text": [
      "number\n",
      "1 2 3\n",
      "number :  1 2 3\n",
      "1, 2, 3\n",
      "123\n",
      "1\n",
      "2\n",
      "3\n",
      "1 2 3\n"
     ]
    }
   ],
   "source": [
    "#출력방식\n",
    "print(\"number\")\n",
    "a,b,c=1,2,3\n",
    "print(a,b,c)\n",
    "print(\"number : \",a,b,c)\n",
    "print(a,b,c, sep=', ') #sep \n",
    "print(a,b,c, sep='')\n",
    "print(a,b,c, sep='\\n')\n",
    "print(a, end=' ')\n",
    "print(b, end=' ')\n",
    "print(c)"
   ]
  },
  {
   "cell_type": "markdown",
   "id": "743b8ec7",
   "metadata": {},
   "source": [
    "## **2. 변수입력과 연산자**\n"
   ]
  },
  {
   "cell_type": "code",
   "execution_count": 5,
   "id": "c105315a",
   "metadata": {},
   "outputs": [
    {
     "name": "stdout",
     "output_type": "stream",
     "text": [
      "숫자를 입력하세요 : 7\n",
      "7\n"
     ]
    }
   ],
   "source": [
    "a=input(\"숫자를 입력하세요 : \")\n",
    "print(a)"
   ]
  },
  {
   "cell_type": "code",
   "execution_count": 6,
   "id": "0239b0e2",
   "metadata": {},
   "outputs": [
    {
     "name": "stdout",
     "output_type": "stream",
     "text": [
      "숫자를 입력하세요 : 2 3\n",
      "<class 'str'>\n",
      "<class 'str'>\n",
      "23\n"
     ]
    }
   ],
   "source": [
    "a, b =input(\"숫자를 입력하세요 : \").split()\n",
    "print(type(a))\n",
    "c = a+b\n",
    "print(type(c))\n",
    "print(c)"
   ]
  },
  {
   "cell_type": "code",
   "execution_count": 7,
   "id": "4ec5c4d2",
   "metadata": {},
   "outputs": [
    {
     "name": "stdout",
     "output_type": "stream",
     "text": [
      "숫자를 입력하세요 : 2 3\n",
      "5\n"
     ]
    }
   ],
   "source": [
    "a , b =input(\"숫자를 입력하세요 : \").split()\n",
    "a = int(a)\n",
    "b = int(b)\n",
    "print(a+b)"
   ]
  },
  {
   "cell_type": "code",
   "execution_count": 8,
   "id": "4368b0c0",
   "metadata": {},
   "outputs": [
    {
     "name": "stdout",
     "output_type": "stream",
     "text": [
      "숫자를 입력하세요 : 2 3\n",
      "5\n",
      "-1\n",
      "0.6666666666666666\n",
      "6\n",
      "0\n",
      "2\n",
      "8\n"
     ]
    }
   ],
   "source": [
    "a , b =map(int, input(\"숫자를 입력하세요 : \").split())\n",
    "print(a+b)\n",
    "print(a-b)\n",
    "print(a/b)\n",
    "print(a*b)\n",
    "print(a//b) #몫\n",
    "print(a%b) #나머지\n",
    "print(a**b) #거듭제곱"
   ]
  },
  {
   "cell_type": "code",
   "execution_count": 9,
   "id": "21279c08",
   "metadata": {},
   "outputs": [
    {
     "name": "stdout",
     "output_type": "stream",
     "text": [
      "<class 'float'>\n",
      "9.3\n"
     ]
    }
   ],
   "source": [
    "a=4.3\n",
    "b=5\n",
    "c = a+b\n",
    "print(type(c))\n",
    "print(c)"
   ]
  },
  {
   "cell_type": "markdown",
   "id": "f6865328",
   "metadata": {},
   "source": [
    "## 3. 조건문(if 분기문, 다중 if문)"
   ]
  },
  {
   "cell_type": "code",
   "execution_count": 10,
   "id": "fbdd3038",
   "metadata": {},
   "outputs": [
    {
     "name": "stdout",
     "output_type": "stream",
     "text": [
      "lucky\n",
      "ㅋㅋ\n"
     ]
    }
   ],
   "source": [
    "x=7\n",
    "if x==7:\n",
    "    print(\"lucky\")\n",
    "    print(\"ㅋㅋ\")"
   ]
  },
  {
   "cell_type": "code",
   "execution_count": 11,
   "id": "f30ebe3d",
   "metadata": {},
   "outputs": [],
   "source": [
    "x=7\n",
    "if x!=7:\n",
    "    print(\"lucky\")\n",
    "    print(\"ㅋㅋ\")"
   ]
  },
  {
   "cell_type": "code",
   "execution_count": 12,
   "id": "e71550b6",
   "metadata": {},
   "outputs": [
    {
     "name": "stdout",
     "output_type": "stream",
     "text": [
      "lucky\n",
      "ㅋㅋ\n"
     ]
    }
   ],
   "source": [
    "x=5\n",
    "if x!=7:\n",
    "    print(\"lucky\")\n",
    "    print(\"ㅋㅋ\")"
   ]
  },
  {
   "cell_type": "code",
   "execution_count": 13,
   "id": "f0f8aac2",
   "metadata": {},
   "outputs": [
    {
     "name": "stdout",
     "output_type": "stream",
     "text": [
      "10이상의 홀수\n"
     ]
    }
   ],
   "source": [
    "x=15\n",
    "if x>=10:\n",
    "    if x%2 ==1:\n",
    "        print(\"10이상의 홀수\")"
   ]
  },
  {
   "cell_type": "code",
   "execution_count": 14,
   "id": "e8c0f9a0",
   "metadata": {},
   "outputs": [
    {
     "name": "stdout",
     "output_type": "stream",
     "text": [
      "10보다 작은 자연수\n"
     ]
    }
   ],
   "source": [
    "x=9\n",
    "if x>0:\n",
    "    if x < 10:\n",
    "        print(\"10보다 작은 자연수\")"
   ]
  },
  {
   "cell_type": "code",
   "execution_count": 15,
   "id": "9fd442b7",
   "metadata": {},
   "outputs": [
    {
     "name": "stdout",
     "output_type": "stream",
     "text": [
      "10보다 작은 자연수\n"
     ]
    }
   ],
   "source": [
    "x=7\n",
    "if x>0 and x<10:\n",
    "    print(\"10보다 작은 자연수\")"
   ]
  },
  {
   "cell_type": "code",
   "execution_count": 16,
   "id": "c04c9aca",
   "metadata": {},
   "outputs": [
    {
     "name": "stdout",
     "output_type": "stream",
     "text": [
      "10보다 작은 자연수\n"
     ]
    }
   ],
   "source": [
    "x=7\n",
    "if 0<x<10:\n",
    "    print(\"10보다 작은 자연수\")"
   ]
  },
  {
   "cell_type": "code",
   "execution_count": 17,
   "id": "9213b622",
   "metadata": {},
   "outputs": [
    {
     "name": "stdout",
     "output_type": "stream",
     "text": [
      "양수\n"
     ]
    }
   ],
   "source": [
    "#분기문\n",
    "x = 10\n",
    "if x>0:\n",
    "    print(\"양수\")\n",
    "else:\n",
    "    print(\"음수\")"
   ]
  },
  {
   "cell_type": "code",
   "execution_count": 18,
   "id": "ebf77c8d",
   "metadata": {},
   "outputs": [
    {
     "name": "stdout",
     "output_type": "stream",
     "text": [
      "음수\n"
     ]
    }
   ],
   "source": [
    "x = -3\n",
    "if x>0:\n",
    "    print(\"양수\")\n",
    "else:\n",
    "    print(\"음수\")"
   ]
  },
  {
   "cell_type": "code",
   "execution_count": 19,
   "id": "ef55f086",
   "metadata": {},
   "outputs": [
    {
     "name": "stdout",
     "output_type": "stream",
     "text": [
      "A\n"
     ]
    }
   ],
   "source": [
    "#다중 if문\n",
    "x = 93\n",
    "if x>=90:\n",
    "    print('A')\n",
    "elif x>=80:\n",
    "    print('B')\n",
    "elif x>=70:\n",
    "    print('C')\n",
    "elif x>=60:\n",
    "    print('D')\n",
    "else:\n",
    "    print('F')"
   ]
  },
  {
   "cell_type": "code",
   "execution_count": 20,
   "id": "06b36f13",
   "metadata": {},
   "outputs": [
    {
     "name": "stdout",
     "output_type": "stream",
     "text": [
      "B\n"
     ]
    }
   ],
   "source": [
    "x =80\n",
    "if x>=90:\n",
    "    print('A')\n",
    "elif x>=80:\n",
    "    print('B')\n",
    "elif x>=70:\n",
    "    print('C')\n",
    "elif x>=60:\n",
    "    print('D')\n",
    "else:\n",
    "    print('F')"
   ]
  },
  {
   "cell_type": "code",
   "execution_count": 21,
   "id": "bbaee341",
   "metadata": {},
   "outputs": [
    {
     "name": "stdout",
     "output_type": "stream",
     "text": [
      "F\n"
     ]
    }
   ],
   "source": [
    "x =50\n",
    "if x>=90:\n",
    "    print('A')\n",
    "elif x>=80:\n",
    "    print('B')\n",
    "elif x>=70:\n",
    "    print('C')\n",
    "elif x>=60:\n",
    "    print('D')\n",
    "else:\n",
    "    print('F')"
   ]
  },
  {
   "cell_type": "code",
   "execution_count": 23,
   "id": "37f915ca",
   "metadata": {},
   "outputs": [
    {
     "name": "stdout",
     "output_type": "stream",
     "text": [
      "A\n",
      "B\n",
      "C\n",
      "D\n"
     ]
    }
   ],
   "source": [
    "x =90\n",
    "if x>=90:\n",
    "    print('A')\n",
    "if x>=80:\n",
    "    print('B')\n",
    "if x>=70:\n",
    "    print('C')\n",
    "if x>=60:\n",
    "    print('D')\n"
   ]
  },
  {
   "cell_type": "markdown",
   "id": "af8bebda",
   "metadata": {},
   "source": [
    "## **4. 반복문(for,while,break,continue)**"
   ]
  },
  {
   "cell_type": "code",
   "execution_count": 24,
   "id": "a8d1400b",
   "metadata": {},
   "outputs": [
    {
     "name": "stdout",
     "output_type": "stream",
     "text": [
      "[0, 1, 2, 3, 4, 5, 6, 7, 8, 9]\n"
     ]
    }
   ],
   "source": [
    "a = range(10)\n",
    "print(list(a))"
   ]
  },
  {
   "cell_type": "code",
   "execution_count": 25,
   "id": "74e86e0c",
   "metadata": {},
   "outputs": [
    {
     "name": "stdout",
     "output_type": "stream",
     "text": [
      "[1, 2, 3, 4, 5, 6, 7, 8, 9, 10]\n"
     ]
    }
   ],
   "source": [
    "a = range(1,11)\n",
    "print(list(a))"
   ]
  },
  {
   "cell_type": "code",
   "execution_count": 26,
   "id": "d84e8ce6",
   "metadata": {},
   "outputs": [
    {
     "name": "stdout",
     "output_type": "stream",
     "text": [
      "hello\n",
      "hello\n",
      "hello\n",
      "hello\n",
      "hello\n",
      "hello\n",
      "hello\n",
      "hello\n",
      "hello\n",
      "hello\n"
     ]
    }
   ],
   "source": [
    "for i in range(10):\n",
    "    print(\"hello\")"
   ]
  },
  {
   "cell_type": "code",
   "execution_count": 27,
   "id": "e4fa94e4",
   "metadata": {},
   "outputs": [
    {
     "name": "stdout",
     "output_type": "stream",
     "text": [
      "0\n",
      "1\n",
      "2\n",
      "3\n",
      "4\n",
      "5\n",
      "6\n",
      "7\n",
      "8\n",
      "9\n"
     ]
    }
   ],
   "source": [
    "for i in range(10):\n",
    "    print(i)"
   ]
  },
  {
   "cell_type": "code",
   "execution_count": 28,
   "id": "b5bcd670",
   "metadata": {},
   "outputs": [
    {
     "name": "stdout",
     "output_type": "stream",
     "text": [
      "1\n",
      "2\n",
      "3\n",
      "4\n",
      "5\n",
      "6\n",
      "7\n",
      "8\n",
      "9\n",
      "10\n"
     ]
    }
   ],
   "source": [
    "for i in range(1,11):\n",
    "    print(i)"
   ]
  },
  {
   "cell_type": "code",
   "execution_count": 29,
   "id": "c52acb1f",
   "metadata": {},
   "outputs": [
    {
     "name": "stdout",
     "output_type": "stream",
     "text": [
      "10\n",
      "8\n",
      "6\n",
      "4\n",
      "2\n"
     ]
    }
   ],
   "source": [
    "for i in range(10,0, -2):\n",
    "    print(i)"
   ]
  },
  {
   "cell_type": "code",
   "execution_count": 30,
   "id": "ef753491",
   "metadata": {},
   "outputs": [
    {
     "name": "stdout",
     "output_type": "stream",
     "text": [
      "1\n",
      "2\n",
      "3\n",
      "4\n",
      "5\n",
      "6\n",
      "7\n",
      "8\n",
      "9\n",
      "10\n"
     ]
    }
   ],
   "source": [
    "i =1\n",
    "while i <=10:\n",
    "    print(i)\n",
    "    i =i+1"
   ]
  },
  {
   "cell_type": "code",
   "execution_count": 31,
   "id": "d65d2b11",
   "metadata": {},
   "outputs": [
    {
     "name": "stdout",
     "output_type": "stream",
     "text": [
      "10\n",
      "9\n",
      "8\n",
      "7\n",
      "6\n",
      "5\n",
      "4\n",
      "3\n",
      "2\n",
      "1\n"
     ]
    }
   ],
   "source": [
    "i = 10\n",
    "while i>=1:\n",
    "    print(i)\n",
    "    i = i-1"
   ]
  },
  {
   "cell_type": "code",
   "execution_count": 32,
   "id": "fa2e7224",
   "metadata": {},
   "outputs": [
    {
     "name": "stdout",
     "output_type": "stream",
     "text": [
      "1\n",
      "2\n",
      "3\n",
      "4\n",
      "5\n",
      "6\n",
      "7\n",
      "8\n",
      "9\n",
      "10\n"
     ]
    }
   ],
   "source": [
    "i = 1\n",
    "while True:\n",
    "    print(i)\n",
    "    if i==10:\n",
    "        break\n",
    "    i+=1"
   ]
  },
  {
   "cell_type": "code",
   "execution_count": 33,
   "id": "01abef37",
   "metadata": {},
   "outputs": [
    {
     "name": "stdout",
     "output_type": "stream",
     "text": [
      "1\n",
      "3\n",
      "5\n",
      "7\n",
      "9\n"
     ]
    }
   ],
   "source": [
    "for i in range(1,11):\n",
    "    if i%2==0:\n",
    "        continue\n",
    "    print(i)"
   ]
  },
  {
   "cell_type": "code",
   "execution_count": 34,
   "id": "39c29996",
   "metadata": {},
   "outputs": [
    {
     "name": "stdout",
     "output_type": "stream",
     "text": [
      "1\n",
      "2\n",
      "3\n",
      "4\n",
      "5\n",
      "6\n",
      "7\n",
      "8\n",
      "9\n",
      "10\n",
      "11\n"
     ]
    }
   ],
   "source": [
    "for i in range(1,11):\n",
    "    print(i)\n",
    "    if i >15:\n",
    "        break\n",
    "else:            #for문이 정상적 출력되면 else 문 출력, 중간에 break 하면 else값이 나오지 않음\n",
    "    print(11)"
   ]
  },
  {
   "cell_type": "markdown",
   "id": "0c29b98a",
   "metadata": {},
   "source": [
    "## **5. 반복문을 이용한 문제풀이**\n",
    "문제)\n",
    "   1. 1부터 N까지 홀수출력하기\n",
    "   2. 1부터 N까지 합 구하기\n",
    "   3. N의 약수 출력"
   ]
  },
  {
   "cell_type": "code",
   "execution_count": 36,
   "id": "4ad881b9",
   "metadata": {},
   "outputs": [
    {
     "name": "stdout",
     "output_type": "stream",
     "text": [
      "100\n",
      "1\n",
      "3\n",
      "5\n",
      "7\n",
      "9\n",
      "11\n",
      "13\n",
      "15\n",
      "17\n",
      "19\n",
      "21\n",
      "23\n",
      "25\n",
      "27\n",
      "29\n",
      "31\n",
      "33\n",
      "35\n",
      "37\n",
      "39\n",
      "41\n",
      "43\n",
      "45\n",
      "47\n",
      "49\n",
      "51\n",
      "53\n",
      "55\n",
      "57\n",
      "59\n",
      "61\n",
      "63\n",
      "65\n",
      "67\n",
      "69\n",
      "71\n",
      "73\n",
      "75\n",
      "77\n",
      "79\n",
      "81\n",
      "83\n",
      "85\n",
      "87\n",
      "89\n",
      "91\n",
      "93\n",
      "95\n",
      "97\n",
      "99\n"
     ]
    }
   ],
   "source": [
    "n = int(input())\n",
    "for i in range(1,n+1):\n",
    "    if i%2 ==1:\n",
    "        print(i)"
   ]
  },
  {
   "cell_type": "code",
   "execution_count": 37,
   "id": "10d74f64",
   "metadata": {},
   "outputs": [
    {
     "name": "stdout",
     "output_type": "stream",
     "text": [
      "10\n",
      "55\n"
     ]
    }
   ],
   "source": [
    "n = int(input())\n",
    "sum = 0\n",
    "for i in range(1,n+1):\n",
    "    sum = sum+i\n",
    "print(sum)"
   ]
  },
  {
   "cell_type": "code",
   "execution_count": 38,
   "id": "8c852764",
   "metadata": {},
   "outputs": [
    {
     "name": "stdout",
     "output_type": "stream",
     "text": [
      "20\n",
      "1 2 4 5 10 20 "
     ]
    }
   ],
   "source": [
    "n = int(input())\n",
    "for i in range(1,n+1):\n",
    "    if n%i == 0:\n",
    "        print(i, end=' ')"
   ]
  },
  {
   "cell_type": "markdown",
   "id": "357905b2",
   "metadata": {},
   "source": [
    "## **6. 중첩 반복문(2중 for문)**"
   ]
  },
  {
   "cell_type": "code",
   "execution_count": 39,
   "id": "11ff21f8",
   "metadata": {},
   "outputs": [
    {
     "name": "stdout",
     "output_type": "stream",
     "text": [
      "0 1 2 3 4 \n",
      "0 1 2 3 4 \n",
      "0 1 2 3 4 \n",
      "0 1 2 3 4 \n",
      "0 1 2 3 4 \n"
     ]
    }
   ],
   "source": [
    "for i in range(5):\n",
    "    for j in range(5):\n",
    "        print(j, end=' ')\n",
    "    print() "
   ]
  },
  {
   "cell_type": "code",
   "execution_count": 40,
   "id": "a4fd8526",
   "metadata": {},
   "outputs": [
    {
     "name": "stdout",
     "output_type": "stream",
     "text": [
      "i:0 j:0 j:1 j:2 j:3 j:4 \n",
      "i:1 j:0 j:1 j:2 j:3 j:4 \n",
      "i:2 j:0 j:1 j:2 j:3 j:4 \n",
      "i:3 j:0 j:1 j:2 j:3 j:4 \n",
      "i:4 j:0 j:1 j:2 j:3 j:4 \n"
     ]
    }
   ],
   "source": [
    "for i in range(5):\n",
    "    print('i:', i, sep='', end=' ')\n",
    "    for j in range(5):\n",
    "        print('j:', j, sep='', end=' ')\n",
    "    print()"
   ]
  },
  {
   "cell_type": "code",
   "execution_count": 41,
   "id": "3d62b887",
   "metadata": {},
   "outputs": [
    {
     "name": "stdout",
     "output_type": "stream",
     "text": [
      "* * * * * \n",
      "* * * * * \n",
      "* * * * * \n",
      "* * * * * \n",
      "* * * * * \n"
     ]
    }
   ],
   "source": [
    "for i in range(5):\n",
    "    for j in range(5):\n",
    "        print(\"*\", end=' ')\n",
    "    print()\n"
   ]
  },
  {
   "cell_type": "code",
   "execution_count": 42,
   "id": "603a2cca",
   "metadata": {},
   "outputs": [
    {
     "name": "stdout",
     "output_type": "stream",
     "text": [
      "* \n",
      "* * \n",
      "* * * \n",
      "* * * * \n",
      "* * * * * \n"
     ]
    }
   ],
   "source": [
    "for i in range(5):\n",
    "    for j in range(i+1):\n",
    "        print(\"*\", end=' ')\n",
    "    print()"
   ]
  },
  {
   "cell_type": "code",
   "execution_count": 43,
   "id": "76999547",
   "metadata": {},
   "outputs": [
    {
     "name": "stdout",
     "output_type": "stream",
     "text": [
      "* * * * * \n",
      "* * * * \n",
      "* * * \n",
      "* * \n",
      "* \n"
     ]
    }
   ],
   "source": [
    "for i in range(5):\n",
    "    for j in range(5-i):\n",
    "        print('*', end=' ')\n",
    "    print()"
   ]
  },
  {
   "cell_type": "markdown",
   "id": "49c0f16b",
   "metadata": {},
   "source": [
    "## **7. 문자열과 내장함수**"
   ]
  },
  {
   "cell_type": "code",
   "execution_count": 44,
   "id": "0bca4fd9",
   "metadata": {},
   "outputs": [
    {
     "name": "stdout",
     "output_type": "stream",
     "text": [
      "It is Time\n",
      "it is time\n",
      "IT IS TIME\n",
      "tmp: IT IS TIME\n",
      "tmp: 1\n",
      "tmp: 2\n",
      "msg: It is Time\n",
      "msg: It\n",
      "msg: is\n",
      "10\n"
     ]
    }
   ],
   "source": [
    "msg = \"It is Time\"\n",
    "print(msg)\n",
    "print(msg.lower())\n",
    "print(msg.upper())\n",
    "tmp = msg.upper()\n",
    "print('tmp:',tmp)\n",
    "print('tmp:',tmp.find('T'))\n",
    "print('tmp:', tmp.count('T'))\n",
    "print('msg:',msg)\n",
    "print('msg:',msg[:2])\n",
    "print('msg:',msg[3:5]) #3~4까지만 뽑아냄\n",
    "print(len(msg))"
   ]
  },
  {
   "cell_type": "code",
   "execution_count": 45,
   "id": "4e012f74",
   "metadata": {},
   "outputs": [
    {
     "name": "stdout",
     "output_type": "stream",
     "text": [
      "I t   i s   T i m e \n"
     ]
    }
   ],
   "source": [
    "for i in range(len(msg)):\n",
    "    print(msg[i], end=' ')\n",
    "print()"
   ]
  },
  {
   "cell_type": "code",
   "execution_count": 46,
   "id": "f663ef8e",
   "metadata": {},
   "outputs": [
    {
     "name": "stdout",
     "output_type": "stream",
     "text": [
      "I t   i s   T i m e \n"
     ]
    }
   ],
   "source": [
    "for x in msg:\n",
    "    print(x, end=' ')\n",
    "print()"
   ]
  },
  {
   "cell_type": "code",
   "execution_count": 47,
   "id": "3d6e3eda",
   "metadata": {},
   "outputs": [
    {
     "name": "stdout",
     "output_type": "stream",
     "text": [
      "I T \n"
     ]
    }
   ],
   "source": [
    "for x in msg:\n",
    "    if x.isupper():\n",
    "        print(x, end=' ')\n",
    "print()"
   ]
  },
  {
   "cell_type": "code",
   "execution_count": 48,
   "id": "71b191e0",
   "metadata": {},
   "outputs": [
    {
     "name": "stdout",
     "output_type": "stream",
     "text": [
      "t i s i m e \n"
     ]
    }
   ],
   "source": [
    "for x in msg:\n",
    "    if x.islower():\n",
    "        print(x, end=' ')\n",
    "print()"
   ]
  },
  {
   "cell_type": "code",
   "execution_count": 49,
   "id": "4088c84a",
   "metadata": {},
   "outputs": [
    {
     "name": "stdout",
     "output_type": "stream",
     "text": [
      "I t i s T i m e \n"
     ]
    }
   ],
   "source": [
    "for x in msg:\n",
    "    if x.isalpha():\n",
    "        print(x, end=' ')\n",
    "print()"
   ]
  },
  {
   "cell_type": "code",
   "execution_count": 50,
   "id": "0f47b55b",
   "metadata": {},
   "outputs": [
    {
     "name": "stdout",
     "output_type": "stream",
     "text": [
      "65\n",
      "90\n"
     ]
    }
   ],
   "source": [
    "tmp='AZ'\n",
    "for x in tmp:\n",
    "    print(ord(x)) #ord 아스키넘버 출력"
   ]
  },
  {
   "cell_type": "code",
   "execution_count": 51,
   "id": "316a7437",
   "metadata": {},
   "outputs": [
    {
     "name": "stdout",
     "output_type": "stream",
     "text": [
      "97\n",
      "122\n"
     ]
    }
   ],
   "source": [
    "tmp='az'\n",
    "for x in tmp:\n",
    "    print(ord(x)) #ord 아스키넘버 출력"
   ]
  },
  {
   "cell_type": "code",
   "execution_count": 52,
   "id": "d9410b70",
   "metadata": {},
   "outputs": [
    {
     "name": "stdout",
     "output_type": "stream",
     "text": [
      "A\n"
     ]
    }
   ],
   "source": [
    "tmp=65\n",
    "print(chr(tmp)) #chr 아스키문자에 대응되는 문자를 출력"
   ]
  },
  {
   "cell_type": "markdown",
   "id": "36ace6f0",
   "metadata": {},
   "source": [
    "## **8. 리스트와 내장함수**"
   ]
  },
  {
   "cell_type": "code",
   "execution_count": 53,
   "id": "d2c21bad",
   "metadata": {},
   "outputs": [
    {
     "name": "stdout",
     "output_type": "stream",
     "text": [
      "[]\n",
      "[]\n"
     ]
    }
   ],
   "source": [
    "import random as r #랜덤 import\n",
    "a=[]\n",
    "print(a)\n",
    "b=list()\n",
    "print(b)"
   ]
  },
  {
   "cell_type": "code",
   "execution_count": 54,
   "id": "a69f26d2",
   "metadata": {},
   "outputs": [
    {
     "name": "stdout",
     "output_type": "stream",
     "text": [
      "[1, 2, 3, 4, 5]\n",
      "1\n"
     ]
    }
   ],
   "source": [
    "a=[1, 2, 3, 4, 5]\n",
    "print(a)\n",
    "print(a[0])"
   ]
  },
  {
   "cell_type": "code",
   "execution_count": 55,
   "id": "c3815247",
   "metadata": {},
   "outputs": [
    {
     "name": "stdout",
     "output_type": "stream",
     "text": [
      "[1, 2, 3, 4, 5, 6, 7, 8, 9, 10]\n"
     ]
    }
   ],
   "source": [
    "b=list(range(1,11))\n",
    "print(b)"
   ]
  },
  {
   "cell_type": "code",
   "execution_count": 56,
   "id": "13070c6b",
   "metadata": {},
   "outputs": [
    {
     "name": "stdout",
     "output_type": "stream",
     "text": [
      "[1, 2, 3, 4, 5, 1, 2, 3, 4, 5, 6, 7, 8, 9, 10]\n"
     ]
    }
   ],
   "source": [
    "c = a+ b\n",
    "print(c)"
   ]
  },
  {
   "cell_type": "code",
   "execution_count": 57,
   "id": "a8797abd",
   "metadata": {},
   "outputs": [
    {
     "name": "stdout",
     "output_type": "stream",
     "text": [
      "[1, 2, 3, 4, 5, 6]\n"
     ]
    }
   ],
   "source": [
    "a.append(6) #원소뒤에 추가\n",
    "print(a) "
   ]
  },
  {
   "cell_type": "code",
   "execution_count": 58,
   "id": "9450f481",
   "metadata": {},
   "outputs": [
    {
     "name": "stdout",
     "output_type": "stream",
     "text": [
      "[1, 2, 3, 7, 4, 5, 6]\n"
     ]
    }
   ],
   "source": [
    "a.insert(3,7) #원소사이에 추가\n",
    "print(a)"
   ]
  },
  {
   "cell_type": "code",
   "execution_count": 59,
   "id": "a163d0af",
   "metadata": {},
   "outputs": [
    {
     "name": "stdout",
     "output_type": "stream",
     "text": [
      "[1, 2, 3, 7, 4, 5]\n"
     ]
    }
   ],
   "source": [
    "a.pop() # 원소마지막 지워짐 & 위치 지정한 원소 삭제가능\n",
    "print(a)"
   ]
  },
  {
   "cell_type": "code",
   "execution_count": 60,
   "id": "32ee0a5f",
   "metadata": {},
   "outputs": [
    {
     "name": "stdout",
     "output_type": "stream",
     "text": [
      "[1, 2, 3, 4, 5]\n"
     ]
    }
   ],
   "source": [
    "a.pop(3)\n",
    "print(a)"
   ]
  },
  {
   "cell_type": "code",
   "execution_count": 61,
   "id": "fe78ddea",
   "metadata": {},
   "outputs": [
    {
     "name": "stdout",
     "output_type": "stream",
     "text": [
      "[1, 2, 3, 5]\n"
     ]
    }
   ],
   "source": [
    "a.remove(4) #원소 값을 삭제\n",
    "print(a)\n"
   ]
  },
  {
   "cell_type": "code",
   "execution_count": 62,
   "id": "7ddf478d",
   "metadata": {},
   "outputs": [
    {
     "name": "stdout",
     "output_type": "stream",
     "text": [
      "3\n"
     ]
    }
   ],
   "source": [
    "print(a.index(5))"
   ]
  },
  {
   "cell_type": "code",
   "execution_count": 88,
   "id": "6f246bfe",
   "metadata": {},
   "outputs": [],
   "source": [
    "del sum"
   ]
  },
  {
   "cell_type": "code",
   "execution_count": 89,
   "id": "6b4b2012",
   "metadata": {},
   "outputs": [
    {
     "name": "stdout",
     "output_type": "stream",
     "text": [
      "[1, 2, 3, 4, 5, 6, 7, 8, 9, 10]\n",
      "55\n"
     ]
    }
   ],
   "source": [
    "a = list(range(1,11))\n",
    "print(a)\n",
    "print(sum(a))"
   ]
  },
  {
   "cell_type": "code",
   "execution_count": 65,
   "id": "29b83f28",
   "metadata": {},
   "outputs": [
    {
     "name": "stdout",
     "output_type": "stream",
     "text": [
      "10\n",
      "1\n",
      "3\n"
     ]
    }
   ],
   "source": [
    "print(max(a))\n",
    "print(min(a)) #max min 인자값중 가장 큰,작은 값 출력\n",
    "print(min(7,3,5))"
   ]
  },
  {
   "cell_type": "code",
   "execution_count": 66,
   "id": "c9d7c123",
   "metadata": {},
   "outputs": [
    {
     "name": "stdout",
     "output_type": "stream",
     "text": [
      "[1, 2, 3, 4, 5, 6, 7, 8, 9, 10]\n"
     ]
    }
   ],
   "source": [
    "print(a)"
   ]
  },
  {
   "cell_type": "code",
   "execution_count": 67,
   "id": "242138b7",
   "metadata": {},
   "outputs": [
    {
     "name": "stdout",
     "output_type": "stream",
     "text": [
      "[10, 8, 2, 3, 4, 9, 5, 7, 1, 6]\n"
     ]
    }
   ],
   "source": [
    "r.shuffle(a)\n",
    "print(a)"
   ]
  },
  {
   "cell_type": "code",
   "execution_count": 68,
   "id": "61696fb5",
   "metadata": {},
   "outputs": [
    {
     "name": "stdout",
     "output_type": "stream",
     "text": [
      "[10, 9, 8, 7, 6, 5, 4, 3, 2, 1]\n"
     ]
    }
   ],
   "source": [
    "a.sort(reverse=True)\n",
    "print(a)"
   ]
  },
  {
   "cell_type": "code",
   "execution_count": 69,
   "id": "2c1ea4c4",
   "metadata": {},
   "outputs": [
    {
     "name": "stdout",
     "output_type": "stream",
     "text": [
      "[1, 2, 3, 4, 5, 6, 7, 8, 9, 10]\n"
     ]
    }
   ],
   "source": [
    "a.sort()\n",
    "print(a)"
   ]
  },
  {
   "cell_type": "code",
   "execution_count": 70,
   "id": "1301eb49",
   "metadata": {},
   "outputs": [
    {
     "name": "stdout",
     "output_type": "stream",
     "text": [
      "[]\n"
     ]
    }
   ],
   "source": [
    "a.clear()\n",
    "print(a)"
   ]
  },
  {
   "cell_type": "code",
   "execution_count": 71,
   "id": "14889203",
   "metadata": {},
   "outputs": [
    {
     "name": "stdout",
     "output_type": "stream",
     "text": [
      "[23, 12, 36]\n"
     ]
    }
   ],
   "source": [
    "a = [23,12,36,53,19]\n",
    "print(a[:3])"
   ]
  },
  {
   "cell_type": "code",
   "execution_count": 72,
   "id": "580a3296",
   "metadata": {},
   "outputs": [
    {
     "name": "stdout",
     "output_type": "stream",
     "text": [
      "[12, 36, 53]\n"
     ]
    }
   ],
   "source": [
    "print(a[1:4])"
   ]
  },
  {
   "cell_type": "code",
   "execution_count": 73,
   "id": "bb79507a",
   "metadata": {},
   "outputs": [
    {
     "name": "stdout",
     "output_type": "stream",
     "text": [
      "5\n"
     ]
    }
   ],
   "source": [
    "print(len(a))"
   ]
  },
  {
   "cell_type": "code",
   "execution_count": 74,
   "id": "e1f6f9e7",
   "metadata": {},
   "outputs": [
    {
     "name": "stdout",
     "output_type": "stream",
     "text": [
      "23 12 36 53 19 \n"
     ]
    }
   ],
   "source": [
    "for i in range(len(a)):\n",
    "    print(a[i], end=' ')\n",
    "print()"
   ]
  },
  {
   "cell_type": "code",
   "execution_count": 75,
   "id": "318fed7d",
   "metadata": {},
   "outputs": [
    {
     "name": "stdout",
     "output_type": "stream",
     "text": [
      "23 12 36 53 19 \n"
     ]
    }
   ],
   "source": [
    "for x in a:\n",
    "    print(x, end= ' ')\n",
    "print()"
   ]
  },
  {
   "cell_type": "code",
   "execution_count": 76,
   "id": "b65ca3a3",
   "metadata": {},
   "outputs": [
    {
     "name": "stdout",
     "output_type": "stream",
     "text": [
      "23 53 19 \n"
     ]
    }
   ],
   "source": [
    "for x in a:\n",
    "    if x%2 ==1:\n",
    "        print(x, end= ' ')\n",
    "print()"
   ]
  },
  {
   "cell_type": "code",
   "execution_count": 77,
   "id": "6c9ed469",
   "metadata": {},
   "outputs": [
    {
     "name": "stdout",
     "output_type": "stream",
     "text": [
      "(0, 23)\n",
      "(1, 12)\n",
      "(2, 36)\n",
      "(3, 53)\n",
      "(4, 19)\n"
     ]
    }
   ],
   "source": [
    "for x in enumerate(a):  #enumerate 값의 인덱스 값과 함께 출력\n",
    "    print(x)"
   ]
  },
  {
   "cell_type": "code",
   "execution_count": 78,
   "id": "0bb6ca16",
   "metadata": {},
   "outputs": [
    {
     "name": "stdout",
     "output_type": "stream",
     "text": [
      "1\n",
      "7\n"
     ]
    }
   ],
   "source": [
    "b=[1,2,3,4,5] \n",
    "print(b[0])\n",
    "b[0]=7\n",
    "print(b[0])"
   ]
  },
  {
   "cell_type": "code",
   "execution_count": 79,
   "id": "6c6e8875",
   "metadata": {},
   "outputs": [
    {
     "name": "stdout",
     "output_type": "stream",
     "text": [
      "1\n"
     ]
    }
   ],
   "source": [
    "b=(1,2,3,4,5) #tuple 값 변경이 불가능\n",
    "print(b[0])\n",
    "#b[0]=7\n",
    "#print(b[0])"
   ]
  },
  {
   "cell_type": "code",
   "execution_count": 80,
   "id": "97bcafc3",
   "metadata": {},
   "outputs": [
    {
     "name": "stdout",
     "output_type": "stream",
     "text": [
      "0 23\n",
      "1 12\n",
      "2 36\n",
      "3 53\n",
      "4 19\n",
      "\n"
     ]
    }
   ],
   "source": [
    "for x in enumerate(a):\n",
    "    print(x[0], x[1])\n",
    "print()"
   ]
  },
  {
   "cell_type": "code",
   "execution_count": 81,
   "id": "eedda958",
   "metadata": {},
   "outputs": [
    {
     "name": "stdout",
     "output_type": "stream",
     "text": [
      "0 23\n",
      "1 12\n",
      "2 36\n",
      "3 53\n",
      "4 19\n",
      "\n"
     ]
    }
   ],
   "source": [
    "for index, value in enumerate(a):\n",
    "    print(index, value)\n",
    "print()"
   ]
  },
  {
   "cell_type": "code",
   "execution_count": 82,
   "id": "87958ccd",
   "metadata": {},
   "outputs": [
    {
     "name": "stdout",
     "output_type": "stream",
     "text": [
      "Yes\n"
     ]
    }
   ],
   "source": [
    "if all(60>x for x in a):\n",
    "    print(\"Yes\")\n",
    "else:\n",
    "    print(\"NO\")"
   ]
  },
  {
   "cell_type": "code",
   "execution_count": 83,
   "id": "1cdbdd84",
   "metadata": {},
   "outputs": [
    {
     "name": "stdout",
     "output_type": "stream",
     "text": [
      "NO\n"
     ]
    }
   ],
   "source": [
    "if all(50>x for x in a):\n",
    "    print(\"Yes\")\n",
    "else:\n",
    "    print(\"NO\")"
   ]
  },
  {
   "cell_type": "code",
   "execution_count": 84,
   "id": "1cee98d0",
   "metadata": {},
   "outputs": [
    {
     "name": "stdout",
     "output_type": "stream",
     "text": [
      "Yes\n"
     ]
    }
   ],
   "source": [
    "if any(15>x for x in a):\n",
    "    print(\"Yes\")\n",
    "else:\n",
    "    print(\"NO\")"
   ]
  },
  {
   "cell_type": "code",
   "execution_count": 85,
   "id": "a454624b",
   "metadata": {},
   "outputs": [
    {
     "name": "stdout",
     "output_type": "stream",
     "text": [
      "NO\n"
     ]
    }
   ],
   "source": [
    "if any(11>x for x in a):\n",
    "    print(\"Yes\")\n",
    "else:\n",
    "    print(\"NO\")"
   ]
  },
  {
   "cell_type": "markdown",
   "id": "515dbb86",
   "metadata": {},
   "source": [
    "## **9. 2차원 리스트 생성과 접근**"
   ]
  },
  {
   "cell_type": "code",
   "execution_count": 90,
   "id": "ccc5346f",
   "metadata": {},
   "outputs": [
    {
     "name": "stdout",
     "output_type": "stream",
     "text": [
      "[0, 0, 0, 0, 0, 0, 0, 0, 0, 0]\n"
     ]
    }
   ],
   "source": [
    "a=[0]*10\n",
    "print(a)"
   ]
  },
  {
   "cell_type": "code",
   "execution_count": 91,
   "id": "b088a757",
   "metadata": {},
   "outputs": [
    {
     "name": "stdout",
     "output_type": "stream",
     "text": [
      "[0, 0, 0]\n"
     ]
    }
   ],
   "source": [
    "a=[0]*3\n",
    "print(a)"
   ]
  },
  {
   "cell_type": "code",
   "execution_count": 92,
   "id": "174af4a2",
   "metadata": {},
   "outputs": [
    {
     "name": "stdout",
     "output_type": "stream",
     "text": [
      "[[0, 0, 0], [0, 0, 0], [0, 0, 0]]\n"
     ]
    }
   ],
   "source": [
    "a=[[0]*3 for _ in range(3)] # _ 변수없이 반복문 돎\n",
    "print(a)"
   ]
  },
  {
   "cell_type": "code",
   "execution_count": 93,
   "id": "8abeef0e",
   "metadata": {},
   "outputs": [
    {
     "name": "stdout",
     "output_type": "stream",
     "text": [
      "[[0, 1, 0], [0, 0, 0], [0, 0, 0]]\n"
     ]
    }
   ],
   "source": [
    "a[0][1]=1\n",
    "print(a)"
   ]
  },
  {
   "cell_type": "code",
   "execution_count": 94,
   "id": "4af0d26c",
   "metadata": {},
   "outputs": [
    {
     "name": "stdout",
     "output_type": "stream",
     "text": [
      "[[0, 1, 0], [0, 2, 0], [0, 0, 0]]\n"
     ]
    }
   ],
   "source": [
    "a[1][1]=2\n",
    "print(a)"
   ]
  },
  {
   "cell_type": "code",
   "execution_count": 95,
   "id": "e0a4eb0d",
   "metadata": {},
   "outputs": [
    {
     "name": "stdout",
     "output_type": "stream",
     "text": [
      "[0, 1, 0]\n",
      "[0, 2, 0]\n",
      "[0, 0, 0]\n"
     ]
    }
   ],
   "source": [
    "for x in a:\n",
    "    print(x)"
   ]
  },
  {
   "cell_type": "code",
   "execution_count": 96,
   "id": "fd356d11",
   "metadata": {},
   "outputs": [
    {
     "name": "stdout",
     "output_type": "stream",
     "text": [
      "0 1 0 \n",
      "0 2 0 \n",
      "0 0 0 \n"
     ]
    }
   ],
   "source": [
    "for x in a:\n",
    "    for y in x:\n",
    "        print(y, end= ' ')\n",
    "    print()"
   ]
  },
  {
   "cell_type": "markdown",
   "id": "2814bd45",
   "metadata": {},
   "source": [
    "## **10. 함수 만들기**"
   ]
  },
  {
   "cell_type": "code",
   "execution_count": 97,
   "id": "6cb37441",
   "metadata": {},
   "outputs": [],
   "source": [
    "def add(a,b):\n",
    "    c=a+b\n",
    "    print(c)"
   ]
  },
  {
   "cell_type": "code",
   "execution_count": 98,
   "id": "18e8eb65",
   "metadata": {},
   "outputs": [
    {
     "name": "stdout",
     "output_type": "stream",
     "text": [
      "5\n"
     ]
    }
   ],
   "source": [
    "add(3,2)"
   ]
  },
  {
   "cell_type": "code",
   "execution_count": 99,
   "id": "0f537cb3",
   "metadata": {},
   "outputs": [
    {
     "name": "stdout",
     "output_type": "stream",
     "text": [
      "12\n"
     ]
    }
   ],
   "source": [
    "add(5,7)"
   ]
  },
  {
   "cell_type": "code",
   "execution_count": 100,
   "id": "324baf34",
   "metadata": {},
   "outputs": [],
   "source": [
    "def add(a,b):\n",
    "    c=a+b\n",
    "    return c"
   ]
  },
  {
   "cell_type": "code",
   "execution_count": 101,
   "id": "10bd8935",
   "metadata": {},
   "outputs": [
    {
     "name": "stdout",
     "output_type": "stream",
     "text": [
      "5\n"
     ]
    }
   ],
   "source": [
    "print(add(3,2))"
   ]
  },
  {
   "cell_type": "code",
   "execution_count": 102,
   "id": "73d104d1",
   "metadata": {},
   "outputs": [
    {
     "name": "stdout",
     "output_type": "stream",
     "text": [
      "5\n"
     ]
    }
   ],
   "source": [
    "x=add(3,2)\n",
    "print(x)"
   ]
  },
  {
   "cell_type": "code",
   "execution_count": 103,
   "id": "57e3d117",
   "metadata": {},
   "outputs": [],
   "source": [
    "def add(a,b):\n",
    "    c = a+b\n",
    "    d = a-b\n",
    "    return c, d"
   ]
  },
  {
   "cell_type": "code",
   "execution_count": 104,
   "id": "d3b1e18d",
   "metadata": {},
   "outputs": [
    {
     "name": "stdout",
     "output_type": "stream",
     "text": [
      "(5, 1)\n"
     ]
    }
   ],
   "source": [
    "print(add(3,2))"
   ]
  },
  {
   "cell_type": "code",
   "execution_count": 105,
   "id": "2d7b939a",
   "metadata": {},
   "outputs": [],
   "source": [
    "def isPrime(x):\n",
    "    for i in range(2, x):\n",
    "        if x%i==0:\n",
    "            return False #return은 함수 종료 역할도 함께함\n",
    "    return True"
   ]
  },
  {
   "cell_type": "code",
   "execution_count": 106,
   "id": "590b00b9",
   "metadata": {},
   "outputs": [
    {
     "name": "stdout",
     "output_type": "stream",
     "text": [
      "13 7 19 "
     ]
    }
   ],
   "source": [
    "a=[12,13,7,9,19]\n",
    "for y in a:\n",
    "    if isPrime(y):\n",
    "        print(y, end=' ')\n",
    "        "
   ]
  },
  {
   "cell_type": "markdown",
   "id": "fb3091ca",
   "metadata": {},
   "source": [
    "## **11. 람다함수**"
   ]
  },
  {
   "cell_type": "code",
   "execution_count": 107,
   "id": "7fddebea",
   "metadata": {},
   "outputs": [
    {
     "name": "stdout",
     "output_type": "stream",
     "text": [
      "2\n"
     ]
    }
   ],
   "source": [
    "def plus_one(x):\n",
    "    return x+1\n",
    "\n",
    "print(plus_one(1))"
   ]
  },
  {
   "cell_type": "code",
   "execution_count": 108,
   "id": "69d0c6d2",
   "metadata": {},
   "outputs": [
    {
     "name": "stdout",
     "output_type": "stream",
     "text": [
      "3\n"
     ]
    }
   ],
   "source": [
    "plus_two = lambda x: x+2 #람다는 내장함수의 인자로 사용할 때 편리\n",
    "print(plus_two(1))"
   ]
  },
  {
   "cell_type": "code",
   "execution_count": 109,
   "id": "8ea47b80",
   "metadata": {},
   "outputs": [
    {
     "name": "stdout",
     "output_type": "stream",
     "text": [
      "[2, 3, 4]\n",
      "[2, 3, 4]\n"
     ]
    }
   ],
   "source": [
    "a=[1,2,3]\n",
    "print(list(map(plus_one, a)))\n",
    "print(list(map(lambda x: x+1, a)))"
   ]
  },
  {
   "cell_type": "code",
   "execution_count": null,
   "id": "99bc3c63",
   "metadata": {},
   "outputs": [],
   "source": []
  }
 ],
 "metadata": {
  "kernelspec": {
   "display_name": "study",
   "language": "python",
   "name": "study"
  },
  "language_info": {
   "codemirror_mode": {
    "name": "ipython",
    "version": 3
   },
   "file_extension": ".py",
   "mimetype": "text/x-python",
   "name": "python",
   "nbconvert_exporter": "python",
   "pygments_lexer": "ipython3",
   "version": "3.8.11"
  }
 },
 "nbformat": 4,
 "nbformat_minor": 5
}
