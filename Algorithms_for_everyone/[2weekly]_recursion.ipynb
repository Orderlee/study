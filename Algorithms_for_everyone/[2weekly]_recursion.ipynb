{
 "cells": [
  {
   "cell_type": "markdown",
   "id": "90f95852",
   "metadata": {},
   "source": [
    "## 재귀호출\n",
    "재귀 호출 함수가 계산 결과를 돌려줄 때는 **return** 명령을 사용해서 종료 조건의 결과값을 돌려줌"
   ]
  },
  {
   "cell_type": "markdown",
   "id": "f1f8aebd",
   "metadata": {},
   "source": [
    "## 유클리드 알고리즘\n",
    "\n",
    "1. a와 b의 초대 공약수는 'b'와'a를 b로 나눈 나머지'의 초대 공약수와같다.\n",
    "    - gcd(a,b) =gcd(b,a %b)\n",
    "2. 어떤수와 0의 초대 공약수는 자기 자신\n",
    "    - gcd(n,0) = n"
   ]
  },
  {
   "cell_type": "markdown",
   "id": "8c1dd0c4",
   "metadata": {},
   "source": [
    "### 재귀 호출로 1부터 n까지 합 구하기 "
   ]
  },
  {
   "cell_type": "code",
   "execution_count": 6,
   "id": "525163b6",
   "metadata": {},
   "outputs": [
    {
     "data": {
      "text/plain": [
       "5050"
      ]
     },
     "execution_count": 6,
     "metadata": {},
     "output_type": "execute_result"
    }
   ],
   "source": [
    "def sum_n(n):\n",
    "    f = 0\n",
    "    for i in range(1, n+1):\n",
    "        f = f+i\n",
    "    return f\n",
    "\n",
    "sum_n(100)\n",
    "    "
   ]
  },
  {
   "cell_type": "markdown",
   "id": "1a53e0f9",
   "metadata": {},
   "source": [
    "### 재귀 호출로 n개중 최대값 찾기"
   ]
  },
  {
   "cell_type": "code",
   "execution_count": 19,
   "id": "4ce44256",
   "metadata": {},
   "outputs": [
    {
     "name": "stdout",
     "output_type": "stream",
     "text": [
      "838384\n"
     ]
    }
   ],
   "source": [
    "def find_max(a,n):\n",
    "    if n==1:\n",
    "        return a[0]\n",
    "    max_s = find_max(a,n-1)\n",
    "    \n",
    "    if max_s > a[n-1]:\n",
    "        return max_s\n",
    "    else:\n",
    "        return a[n-1]\n",
    "    \n",
    "tot = [133,232,1929,8,838384]\n",
    "\n",
    "\n",
    "print(find_max(tot,len(tot)))\n",
    "    "
   ]
  },
  {
   "cell_type": "markdown",
   "id": "cf1a633d",
   "metadata": {},
   "source": [
    "### 재귀호출을 이용하여 n번재 피보나치 수를 구하라"
   ]
  },
  {
   "cell_type": "code",
   "execution_count": 22,
   "id": "c2081ac7",
   "metadata": {},
   "outputs": [
    {
     "name": "stdout",
     "output_type": "stream",
     "text": [
      "4181\n",
      "28657\n"
     ]
    }
   ],
   "source": [
    "def fibona(b):\n",
    "    if b <= 1:\n",
    "        return b\n",
    "    return fibona(b-2)+fibona(b-1)\n",
    "\n",
    "print(fibona(19))\n",
    "print(fibona(23))\n",
    "    "
   ]
  },
  {
   "cell_type": "code",
   "execution_count": null,
   "id": "5f999f3b",
   "metadata": {},
   "outputs": [],
   "source": []
  }
 ],
 "metadata": {
  "kernelspec": {
   "display_name": "study",
   "language": "python",
   "name": "study"
  },
  "language_info": {
   "codemirror_mode": {
    "name": "ipython",
    "version": 3
   },
   "file_extension": ".py",
   "mimetype": "text/x-python",
   "name": "python",
   "nbconvert_exporter": "python",
   "pygments_lexer": "ipython3",
   "version": "3.8.11"
  }
 },
 "nbformat": 4,
 "nbformat_minor": 5
}
