{
 "cells": [
  {
   "cell_type": "markdown",
   "id": "2d8271f1",
   "metadata": {},
   "source": [
    "### 대문자 O 표기법\n",
    "* 어떤 알고리즘이 문제를 풀기 위해 해야 하는 계산이 얼마나 복잡한지 나타낸 정도\n",
    "\n",
    "* [Khan Academy](https://ko.khanacademy.org/computing/computer-science/algorithms/asymptotic-notation/a/big-o-notation)"
   ]
  },
  {
   "cell_type": "markdown",
   "id": "5705822f",
   "metadata": {},
   "source": [
    "### **자주 쓰는 리스트 기능**\n",
    "|함수|설명|사용 예|\n",
    "|------|---|---|\n",
    "|len(a)|리스트 길이(자료 개수를 구함|a=[ ]<br>len(a)<br>len([1,2,3])|\n",
    "|append(x)|자료 x를 리스트의 맨 뒤에 추가합니다.|a=[1,2,3]<br>a.append(4)|\n",
    "|insert(i,x)|리스트의 i번 위치에x를 추가합니다.|a=[1,2,3]<br>a.insert(0,5)|\n",
    "|pop(i)|i번 위치에있는 자료를 리스트에서 빼내면서<br>그 값을 함수의 결과값으로 돌려줍니다.i를 지정하지 않으면<br>맨 마지막 값을 빼내서돌려줍니다.|a=[1,2,3]<br> print(a.pop())]\n",
    "|clear()|리스트의 모든 자료를 지웁니다.|a=[1,2,3]<br>a.clear()|\n",
    "|x in a|어떤 자료x가 리스트a 안에 있는지 확인합니다.<br>(x not in a는 반대 결과)|a=[1,2,3]<br>2 in a<br>5 in a<br>5 not in a|"
   ]
  },
  {
   "cell_type": "markdown",
   "id": "0a83770c",
   "metadata": {},
   "source": [
    "### **자주 쓰는 집합 기능**\n",
    "|함수|설명|사용 예|\n",
    "|------|---|---|\n",
    "|len(s)|집합의 길이(자료 개수)를 구합니다.|s=set()<br>len(s)<br>len({1,2,3})|\n",
    "|add(x)|집합에자료 x를 추가합니다.|s={1,2,3}<br>s.add(4)|\n",
    "|discard(x)|집합에자료가 x가 들어있다면<br>삭제합니다(없으면 변화없음)|s={1,2,3}<br>s.discard(2)|\n",
    "|clear()|집합의 모든 자료를 지웁니다.|s={1,2,3}<br>s.clear()]\n",
    "|clear()|리스트의 모든 자료를 지웁니다.|a=[1,2,3]<br>a.clear()|\n",
    "|x in s|어떤 자료x가 집합s 안에 있는지 확인합니다.<br>(x not in s는 반대 결과)|s={1,2,3}<br>2 in a<br>5 in a<br>5 not in a|"
   ]
  },
  {
   "cell_type": "code",
   "execution_count": 19,
   "id": "8f813041",
   "metadata": {},
   "outputs": [],
   "source": [
    "import math "
   ]
  },
  {
   "cell_type": "markdown",
   "id": "7c9b4764",
   "metadata": {},
   "source": [
    "### 1부터 n까지 연속한 숫자의 제곱의 합"
   ]
  },
  {
   "cell_type": "code",
   "execution_count": 20,
   "id": "d215cb3d",
   "metadata": {},
   "outputs": [],
   "source": [
    "def sum_n(n):\n",
    "    s = 0\n",
    "    for i in range(1,n+1):\n",
    "        s = s+(i**2)\n",
    "    return s"
   ]
  },
  {
   "cell_type": "code",
   "execution_count": 21,
   "id": "4be3e837",
   "metadata": {},
   "outputs": [
    {
     "name": "stdout",
     "output_type": "stream",
     "text": [
      "385\n"
     ]
    }
   ],
   "source": [
    "print(sum_n(10))"
   ]
  },
  {
   "cell_type": "code",
   "execution_count": 26,
   "id": "c60b84f1",
   "metadata": {},
   "outputs": [],
   "source": [
    "def sum_n(n):\n",
    "    return n*(n+1)*(2*n+1)//6"
   ]
  },
  {
   "cell_type": "code",
   "execution_count": 27,
   "id": "f6853733",
   "metadata": {},
   "outputs": [
    {
     "name": "stdout",
     "output_type": "stream",
     "text": [
      "385\n"
     ]
    }
   ],
   "source": [
    "print(sum_n(10))"
   ]
  },
  {
   "cell_type": "markdown",
   "id": "34785e4c",
   "metadata": {},
   "source": [
    "### 숫자 n개를 리스트로 입력받아 최솟값을 구하는 프로그램"
   ]
  },
  {
   "cell_type": "code",
   "execution_count": 73,
   "id": "283494a0",
   "metadata": {},
   "outputs": [],
   "source": [
    "def find_min_idx(a):\n",
    "    n = len(a)\n",
    "    min_idx = 0\n",
    "    for i in range(1,n):\n",
    "        if a[i] <a[min_idx]:\n",
    "            min_idx = i\n",
    "    return min_idx"
   ]
  },
  {
   "cell_type": "code",
   "execution_count": 75,
   "id": "a22b4135",
   "metadata": {},
   "outputs": [
    {
     "name": "stdout",
     "output_type": "stream",
     "text": [
      "숫자를 입력하세요 : 20 30 40 50\n"
     ]
    },
    {
     "data": {
      "text/plain": [
       "0"
      ]
     },
     "execution_count": 75,
     "metadata": {},
     "output_type": "execute_result"
    }
   ],
   "source": [
    "#v=[100,1239,287,28,1,0,18283]\n",
    "v=list(map(int,input(\"숫자를 입력하세요 : \").split()))\n",
    "\n",
    "find_min_idx(v)"
   ]
  },
  {
   "cell_type": "markdown",
   "id": "d446f988",
   "metadata": {},
   "source": [
    "### n명 중 두명을 뽑아 작을 짓는다고할 때 작을 지울수 있는 모든 조합"
   ]
  },
  {
   "cell_type": "code",
   "execution_count": 66,
   "id": "872cd48d",
   "metadata": {},
   "outputs": [],
   "source": [
    "def find_couple(x):\n",
    "    n = len(x)\n",
    "    for i in range(0, n-1):\n",
    "        for j in range(i+1, n):\n",
    "            print(x[i],'-',x[j])"
   ]
  },
  {
   "cell_type": "code",
   "execution_count": 70,
   "id": "e74b062f",
   "metadata": {},
   "outputs": [
    {
     "name": "stdout",
     "output_type": "stream",
     "text": [
      "Tom - Jerry\n",
      "Tom - Mike\n",
      "Jerry - Mike\n"
     ]
    }
   ],
   "source": [
    "name = [\"Tom\", \"Jerry\", \"Mike\"]\n",
    "find_couple(name)"
   ]
  },
  {
   "cell_type": "code",
   "execution_count": null,
   "id": "f96ac434",
   "metadata": {},
   "outputs": [],
   "source": []
  }
 ],
 "metadata": {
  "kernelspec": {
   "display_name": "study",
   "language": "python",
   "name": "study"
  },
  "language_info": {
   "codemirror_mode": {
    "name": "ipython",
    "version": 3
   },
   "file_extension": ".py",
   "mimetype": "text/x-python",
   "name": "python",
   "nbconvert_exporter": "python",
   "pygments_lexer": "ipython3",
   "version": "3.8.11"
  }
 },
 "nbformat": 4,
 "nbformat_minor": 5
}
